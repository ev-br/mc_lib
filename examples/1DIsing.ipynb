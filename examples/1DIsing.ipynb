{
 "cells": [
  {
   "cell_type": "markdown",
   "metadata": {},
   "source": [
    "# 1D Ising model\n",
    "\n",
    "$$\n",
    "H = -J\\sum_{j=1}^{L} s_j s_{j+1} \\,,\n",
    "$$\n",
    "\n",
    "on a chain of $L$ sites with PBC."
   ]
  },
  {
   "cell_type": "markdown",
   "metadata": {},
   "source": [
    "## Partition function and other observables\n",
    "\n",
    "Using e.g. R. Swendsen, Chap 30, the partition function is\n",
    "\n",
    "$$\n",
    "Z = (2\\cosh{\\beta J})^L + (2\\sinh{\\beta J})^L\n",
    "$$\n",
    "\n",
    "Therefore internal energy is \n",
    "$$\n",
    "E = -\\frac{\\partial}{\\partial \\beta}  \\ln Z = -L x \\frac{1 + x^{L-2}}{1 + x^L} \\,,\n",
    "$$\n",
    "\n",
    "where $x = \\tanh{\\beta J}$."
   ]
  },
  {
   "cell_type": "markdown",
   "metadata": {},
   "source": [
    "# A small chain of $L=4$ sites\n",
    "\n",
    "Can enumerate the spin states ($2^4 = 16$ states in total). "
   ]
  },
  {
   "cell_type": "markdown",
   "metadata": {},
   "source": [
    "## First, set up the lattice."
   ]
  },
  {
   "cell_type": "code",
   "execution_count": 21,
   "metadata": {},
   "outputs": [],
   "source": [
    "import itertools\n",
    "from math import exp\n",
    "import numpy as np\n",
    "\n",
    "from mc_lib.lattices import tabulate_neighbors"
   ]
  },
  {
   "cell_type": "code",
   "execution_count": 22,
   "metadata": {},
   "outputs": [
    {
     "data": {
      "text/plain": [
       "array([[2, 1, 3],\n",
       "       [2, 0, 2],\n",
       "       [2, 1, 3],\n",
       "       [2, 0, 2]])"
      ]
     },
     "execution_count": 22,
     "metadata": {},
     "output_type": "execute_result"
    }
   ],
   "source": [
    "L = 4\n",
    "Nsite = L\n",
    "neighbors = tabulate_neighbors((L, 1, 1), kind='sc')\n",
    "neighbors"
   ]
  },
  {
   "cell_type": "markdown",
   "metadata": {},
   "source": [
    "Internally, the sites are indexed with a flat index (in higher dimensions, too). The format of the `neighbors` array is that `num = neighbors[site, 0]` is the number of neighbors of the site `site`, and `neighbors[site, 1:num]` are the sites which are neighbors of `site`. For instance, the output above means that the site number zero has two neighbors, sites `1` and `3`, site `1` is connected to sites `0` and `2` and so on."
   ]
  },
  {
   "cell_type": "markdown",
   "metadata": {},
   "source": [
    "## Enumerate the spin states on the lattice"
   ]
  },
  {
   "cell_type": "code",
   "execution_count": 23,
   "metadata": {},
   "outputs": [
    {
     "data": {
      "text/plain": [
       "[(-1, -1, -1, -1),\n",
       " (-1, -1, -1, 1),\n",
       " (-1, -1, 1, -1),\n",
       " (-1, -1, 1, 1),\n",
       " (-1, 1, -1, -1),\n",
       " (-1, 1, -1, 1),\n",
       " (-1, 1, 1, -1),\n",
       " (-1, 1, 1, 1),\n",
       " (1, -1, -1, -1),\n",
       " (1, -1, -1, 1),\n",
       " (1, -1, 1, -1),\n",
       " (1, -1, 1, 1),\n",
       " (1, 1, -1, -1),\n",
       " (1, 1, -1, 1),\n",
       " (1, 1, 1, -1),\n",
       " (1, 1, 1, 1)]"
      ]
     },
     "execution_count": 23,
     "metadata": {},
     "output_type": "execute_result"
    }
   ],
   "source": [
    "site_basis = (-1, 1)\n",
    "states = [_ for _ in itertools.product(*[site_basis]*Nsite)]\n",
    "states"
   ]
  },
  {
   "cell_type": "markdown",
   "metadata": {},
   "source": [
    "## Define the Hamiltonian\n",
    "\n",
    "Given a spin state (an element of the `states` list above), the Ising energy is the sum over all bonds of the lattice (i.e. a pair of neighbor sites)."
   ]
  },
  {
   "cell_type": "code",
   "execution_count": 24,
   "metadata": {},
   "outputs": [],
   "source": [
    "def energy(spins, neighbors, J=1.0):\n",
    "    \"\"\"Ising model energy of a spin state.\n",
    "    \"\"\"\n",
    "    ene = 0\n",
    "    for site in range(Nsite):\n",
    "        num_neighb = neighbors[site, 0]\n",
    "        for site1 in neighbors[site, 1:num_neighb+1]:\n",
    "            ene += -J * spins[site] * spins[site1]\n",
    "    \n",
    "    # each bond is counted twice, hence divide by two\n",
    "    return ene / 2.0"
   ]
  },
  {
   "cell_type": "code",
   "execution_count": 25,
   "metadata": {},
   "outputs": [
    {
     "name": "stdout",
     "output_type": "stream",
     "text": [
      "(-1, -1, -1, -1) -4.0\n",
      "(-1, -1, -1, 1) 0.0\n",
      "(-1, -1, 1, -1) 0.0\n",
      "(-1, -1, 1, 1) 0.0\n",
      "(-1, 1, -1, -1) 0.0\n",
      "(-1, 1, -1, 1) 4.0\n",
      "(-1, 1, 1, -1) 0.0\n",
      "(-1, 1, 1, 1) 0.0\n",
      "(1, -1, -1, -1) 0.0\n",
      "(1, -1, -1, 1) 0.0\n",
      "(1, -1, 1, -1) 4.0\n",
      "(1, -1, 1, 1) 0.0\n",
      "(1, 1, -1, -1) 0.0\n",
      "(1, 1, -1, 1) 0.0\n",
      "(1, 1, 1, -1) 0.0\n",
      "(1, 1, 1, 1) -4.0\n"
     ]
    }
   ],
   "source": [
    "for state in states:\n",
    "    print(state, energy(state, neighbors))"
   ]
  },
  {
   "cell_type": "markdown",
   "metadata": {},
   "source": [
    "## Thermodynamic averages\n",
    "\n",
    "We sum over the spin states with Gibbs weights, $\\propto \\exp{-E / T}$. \n",
    "\n",
    "(the summation below should probably use `math.fsum` to avoid loss of precision due to exponentially small and large terms)."
   ]
  },
  {
   "cell_type": "code",
   "execution_count": 26,
   "metadata": {},
   "outputs": [],
   "source": [
    "# Average energy\n",
    "\n",
    "def average_energy(states, neighbors, T):\n",
    "    num, den = 0., 0.\n",
    "    for state in states:\n",
    "        ene = energy(state, neighbors, 1.0)\n",
    "        weight = exp(-ene / T)\n",
    "        num += ene * weight\n",
    "        den += weight\n",
    "    return num / den"
   ]
  },
  {
   "cell_type": "markdown",
   "metadata": {},
   "source": [
    "## Compute the average energy\n",
    "\n",
    "And compare to the exact answer."
   ]
  },
  {
   "cell_type": "code",
   "execution_count": 35,
   "metadata": {},
   "outputs": [
    {
     "name": "stdout",
     "output_type": "stream",
     "text": [
      "0.2 -3.9999999505323136     beta =  5.0\n",
      "0.30000000000000004 -3.9999611300337223     beta =  3.333333333333333\n",
      "0.4 -3.9989106819285     beta =  2.5\n",
      "0.5 -3.99196417187338     beta =  2.0\n",
      "0.6000000000000001 -3.96967543351698     beta =  1.6666666666666665\n",
      "0.7 -3.9222876735924705     beta =  1.4285714285714286\n",
      "0.8 -3.8442305425947123     beta =  1.25\n",
      "0.9000000000000001 -3.7357085101084806     beta =  1.111111111111111\n",
      "1.0 -3.6016507256995927     beta =  1.0\n",
      "1.1 -3.449503692064762     beta =  0.9090909090909091\n",
      "1.2 -3.2871347967237092     beta =  0.8333333333333334\n",
      "1.3 -3.1214540260541392     beta =  0.7692307692307692\n",
      "1.4000000000000001 -2.957803300728428     beta =  0.7142857142857142\n",
      "1.5 -2.7998930594102216     beta =  0.6666666666666666\n",
      "1.6 -2.6500274633267966     beta =  0.625\n",
      "1.7 -2.5094273927475785     beta =  0.5882352941176471\n",
      "1.8 -2.37854404850287     beta =  0.5555555555555556\n",
      "1.9000000000000001 -2.257318031086368     beta =  0.5263157894736842\n",
      "2.0 -2.145374415963298     beta =  0.5\n"
     ]
    }
   ],
   "source": [
    "Ts = np.linspace(0.2, 2.0, 19)\n",
    "E = np.asarray([average_energy(states, neighbors, T) for T in Ts])\n",
    "for t, e in zip(Ts, E):\n",
    "    print(t, e, '    beta = ', 1./t)"
   ]
  },
  {
   "cell_type": "code",
   "execution_count": 33,
   "metadata": {},
   "outputs": [
    {
     "data": {
      "text/plain": [
       "array([0.1 , 0.29, 0.48, 0.67, 0.86, 1.05, 1.24, 1.43, 1.62, 1.81, 2.  ])"
      ]
     },
     "execution_count": 33,
     "metadata": {},
     "output_type": "execute_result"
    }
   ],
   "source": [
    "Ts"
   ]
  },
  {
   "cell_type": "markdown",
   "metadata": {},
   "source": [
    "### Implement the exact formula (written out at the top of the notebook)"
   ]
  },
  {
   "cell_type": "code",
   "execution_count": 36,
   "metadata": {},
   "outputs": [
    {
     "data": {
      "text/plain": [
       "array([-3.99999995, -3.99996113, -3.99891068, -3.99196417, -3.96967543,\n",
       "       -3.92228767, -3.84423054, -3.73570851, -3.60165073, -3.44950369,\n",
       "       -3.2871348 , -3.12145403, -2.9578033 , -2.79989306, -2.65002746,\n",
       "       -2.50942739, -2.37854405, -2.25731803, -2.14537442])"
      ]
     },
     "execution_count": 36,
     "metadata": {},
     "output_type": "execute_result"
    }
   ],
   "source": [
    "th = np.tanh(1./Ts)\n",
    "\n",
    "ee = -L * th * (1 + th**(L-2)) / (1. + th**L)\n",
    "ee"
   ]
  },
  {
   "cell_type": "code",
   "execution_count": 37,
   "metadata": {},
   "outputs": [
    {
     "data": {
      "text/plain": [
       "array([-4.4408921e-16, -8.8817842e-16,  0.0000000e+00, -8.8817842e-16,\n",
       "        0.0000000e+00, -4.4408921e-16,  8.8817842e-16,  4.4408921e-16,\n",
       "       -4.4408921e-16,  0.0000000e+00,  4.4408921e-16,  4.4408921e-16,\n",
       "        0.0000000e+00,  4.4408921e-16, -4.4408921e-16,  4.4408921e-16,\n",
       "       -4.4408921e-16,  0.0000000e+00,  0.0000000e+00])"
      ]
     },
     "execution_count": 37,
     "metadata": {},
     "output_type": "execute_result"
    }
   ],
   "source": [
    "# compare \n",
    "E - ee"
   ]
  },
  {
   "cell_type": "code",
   "execution_count": 25,
   "metadata": {},
   "outputs": [
    {
     "data": {
      "text/plain": [
       "-1.0347174422904286"
      ]
     },
     "execution_count": 25,
     "metadata": {},
     "output_type": "execute_result"
    }
   ],
   "source": [
    "th = np.tanh(0.25)\n",
    "\n",
    "ee = -4 * th * (1 + th**(L-2)) / (1. + th**L)\n",
    "ee"
   ]
  },
  {
   "cell_type": "markdown",
   "metadata": {},
   "source": [
    "# MC simulation"
   ]
  },
  {
   "cell_type": "markdown",
   "metadata": {},
   "source": [
    "From the terminal, run\n",
    "\n",
    "```\n",
    "> python setup.py build_ext -i\n",
    "> python -c'python -c'from cy_ising import simulate; simulate(L=4, beta=1.25, num_sweeps=100000)'\n",
    "```"
   ]
  },
  {
   "cell_type": "code",
   "execution_count": null,
   "metadata": {},
   "outputs": [],
   "source": []
  }
 ],
 "metadata": {
  "kernelspec": {
   "display_name": "Python 3",
   "language": "python",
   "name": "python3"
  },
  "language_info": {
   "codemirror_mode": {
    "name": "ipython",
    "version": 3
   },
   "file_extension": ".py",
   "mimetype": "text/x-python",
   "name": "python",
   "nbconvert_exporter": "python",
   "pygments_lexer": "ipython3",
   "version": "3.8.5"
  }
 },
 "nbformat": 4,
 "nbformat_minor": 4
}

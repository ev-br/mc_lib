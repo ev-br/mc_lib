{
 "cells": [
  {
   "cell_type": "code",
   "execution_count": null,
   "metadata": {
    "collapsed": true
   },
   "outputs": [],
   "source": [
    "# try:\n",
    "#     from mc_lib.rndm import RndmWrapper\n",
    "# except ImportError:\n",
    "#     !pip install git+https://github.com/ev-br/mc_lib.git@master\n",
    "#     pass"
   ]
  },
  {
   "cell_type": "code",
   "execution_count": null,
   "outputs": [],
   "source": [
    "%load_ext cython"
   ],
   "metadata": {
    "collapsed": false,
    "pycharm": {
     "name": "#%%\n"
    }
   }
  },
  {
   "cell_type": "code",
   "execution_count": null,
   "outputs": [],
   "source": [
    "import numpy as np\n",
    "import matplotlib.pyplot as plt"
   ],
   "metadata": {
    "collapsed": false,
    "pycharm": {
     "name": "#%%\n"
    }
   }
  },
  {
   "cell_type": "code",
   "execution_count": null,
   "outputs": [],
   "source": [
    "import cython\n",
    "import numpy as np\n",
    "cimport numpy as np\n",
    "from libc.time cimport time\n",
    "from libc.math cimport exp\n",
    "from mc_lib.rndm cimport RndmWrapper\n",
    "from mc_lib.lattices import tabulate_neighbors\n",
    "\n",
    "#from mc_lib.observable cimport RealObservable\n",
    "\n",
    "@cython.boundscheck(False)\n",
    "@cython.wraparound(False)\n",
    "cdef np.ndarray initState(long[::1] lattice,\n",
    "                                    RndmWrapper rndm):\n",
    "    \"\"\"\n",
    "        :param   lattice: unconfigured array of future lattice (empty array)\n",
    "        :param   rndm: class with random methods from mc_lib\n",
    "        :return: change the 'Lattice' variable and return nothing\n",
    "    \"\"\"\n",
    "    for i in range(lattice.shape[0]):\n",
    "        lattice[i] = 1 if rndm.uniform() > 0.5 else -1\n",
    "    return\n",
    "\n",
    "@cython.boundscheck(False)\n",
    "@cython.wraparound(False)\n",
    "cdef np.ndarray mcmove(long[::1] config,\n",
    "                                 double beta,\n",
    "                                        long[:, ::1] ngb,\n",
    "                                                     RndmWrapper rndm):\n",
    "    \"\"\"\n",
    "        One flip attempt\n",
    "        :param    config: Current configuration of lattice\n",
    "        :param    beta:   Inversed temperature of current configuration\n",
    "        :param    L:      Linear size 'L' of lattice\n",
    "        :param    ngb:    Array of neigbours\n",
    "    \"\"\"\n",
    "    cdef:\n",
    "        Py_ssize_t site = int(config.shape[0] * rndm.uniform())\n",
    "        Py_ssize_t site1 = 0\n",
    "        double dE = 0\n",
    "        long num_ngb = ngb[site, 0]\n",
    "    for n in range(1, num_ngb + 1):\n",
    "        site1 = ngb[site, n]\n",
    "        dE += config[site1] * config[site]\n",
    "    cdef double ratio = exp(-2 * dE * beta)\n",
    "    if rndm.uniform() > ratio:\n",
    "        return\n",
    "    config[site] *= -1\n",
    "    return\n",
    "\n",
    "@cython.boundscheck(False)  # turn off bounds-checking for entire function\n",
    "@cython.wraparound(False)  # turn off negative index wrapping for entire functio\n",
    "cdef double calcEnergy(long[::1] config,\n",
    "                                 long[:, ::1] ngb):\n",
    "    \"\"\"\n",
    "        Count current configuration energy\n",
    "        :param    config: Current configuration of lattice\n",
    "        :param    ngb:    Array of neigbours\n",
    "        return:\n",
    "    \"\"\"\n",
    "    cdef:\n",
    "        Py_ssize_t site = 0\n",
    "        Py_ssize_t site1 = 0\n",
    "        double energy = 0\n",
    "    for site in range(config.shape[0]):\n",
    "        num_ngb = ngb[site, 0]\n",
    "        for n in range(1, num_ngb+1):\n",
    "            site1 = ngb[site, n]\n",
    "            energy += -1 * config[site] * config[site1]\n",
    "    return energy / 4.\n",
    "\n",
    "@cython.boundscheck(False)\n",
    "@cython.wraparound(False)\n",
    "def IsingSimulate(L, T, sweeps, int T_corr, int seed = np.random.randint(0, 1000), int rseed = 1234):\n",
    "\"\"\"\n",
    "    L - linear_size\n",
    "    T - One temperature point\n",
    "    Sweeps - number of L^2 Metropolis Monte-Karlo steps\n",
    "    T_corr - number of algorithm steps between which snapshots are taken\n",
    "\"\"\"\n",
    "cdef RndmWrapper rndm = RndmWrapper((rseed, seed))\n",
    "    cdef:\n",
    "        float beta = 1.0 / T\n",
    "        int sweep = 0\n",
    "        int steps_per_sweep = L * L\n",
    "        int num_therm = int(12 * L * L)\n",
    "        int i = 0\n",
    "\n",
    "    cdef:\n",
    "        np.ndarray configs = np.empty([sweeps, L*L], dtype=int)\n",
    "        long[:, ::1] ngb = tabulate_neighbors(L, kind='sq')\n",
    "        long[::1] config = np.empty(L*L, dtype=int)\n",
    "    initState(config, rndm)\n",
    "    for sweep in range(num_therm):\n",
    "        for i in range(steps_per_sweep):\n",
    "            mcmove(config, beta, ngb, rndm)\n",
    "\n",
    "    for sweep in range(sweeps):\n",
    "        for i in range(T_corr):\n",
    "            for j in range(steps_per_sweep):\n",
    "                mcmove(config, beta, ngb, rndm)\n",
    "        configs[sweep] = config.copy()\n",
    "    return configs"
   ],
   "metadata": {
    "collapsed": false,
    "pycharm": {
     "name": "#%%\n"
    }
   }
  },
  {
   "cell_type": "markdown",
   "source": [
    "### Run (Example)"
   ],
   "metadata": {
    "collapsed": false,
    "pycharm": {
     "name": "#%% md\n"
    }
   }
  },
  {
   "cell_type": "code",
   "execution_count": null,
   "outputs": [],
   "source": [
    "L = 20\n",
    "sweeps = 1000\n",
    "T_c = tc = 2 / (np.log(1 + 2 ** 0.5))\n",
    "t_corr = {10: 150*4, 20: 150*4, 30: 150*4, 40: 310*4, 80: 580*4, 120: 3300*2}\n",
    "\n",
    "config = ng.IsingSimulate(L=L,\n",
    "                          T=T_c,\n",
    "                          sweeps=sweeps,\n",
    "                          T_corr = t_corr[L])"
   ],
   "metadata": {
    "collapsed": false,
    "pycharm": {
     "name": "#%%\n"
    }
   }
  }
 ],
 "metadata": {
  "kernelspec": {
   "display_name": "Python 3",
   "language": "python",
   "name": "python3"
  },
  "language_info": {
   "codemirror_mode": {
    "name": "ipython",
    "version": 2
   },
   "file_extension": ".py",
   "mimetype": "text/x-python",
   "name": "python",
   "nbconvert_exporter": "python",
   "pygments_lexer": "ipython2",
   "version": "2.7.6"
  }
 },
 "nbformat": 4,
 "nbformat_minor": 0
}